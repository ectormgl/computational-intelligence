{
 "cells": [
  {
   "cell_type": "code",
   "execution_count": 2,
   "id": "c7d98059",
   "metadata": {},
   "outputs": [],
   "source": [
    "import os\n",
    "import pandas as pd\n",
    "#import gdown\n",
    "import seaborn as sns\n",
    "import matplotlib.pyplot as plt\n",
    "import numpy as np\n",
    "\n",
    "# PARA USAR NO GOOGLE COLLAB:\n",
    "\n",
    "# Link compartilhável do Google Drive para baixar o Dataset\n",
    "#drive_url = 'https://drive.google.com/uc?id=14m-2aCSFKtjossZPNmrPMBjiao2KxnrO'\n",
    "#gdown.download(drive_url, 'arquivo.csv')\n",
    "\n",
    "###\n",
    "\n",
    "path= os.path.join('..', 'data', 'arquivo.csv')"
   ]
  },
  {
   "cell_type": "code",
   "execution_count": 3,
   "id": "95ee0220",
   "metadata": {},
   "outputs": [
    {
     "data": {
      "text/html": [
       "<div>\n",
       "<style scoped>\n",
       "    .dataframe tbody tr th:only-of-type {\n",
       "        vertical-align: middle;\n",
       "    }\n",
       "\n",
       "    .dataframe tbody tr th {\n",
       "        vertical-align: top;\n",
       "    }\n",
       "\n",
       "    .dataframe thead th {\n",
       "        text-align: right;\n",
       "    }\n",
       "</style>\n",
       "<table border=\"1\" class=\"dataframe\">\n",
       "  <thead>\n",
       "    <tr style=\"text-align: right;\">\n",
       "      <th></th>\n",
       "      <th>balance_divided_creditlimit</th>\n",
       "      <th>age</th>\n",
       "      <th>NumberOfTime30-59DaysPastDueNotWorse</th>\n",
       "      <th>DebtRatio</th>\n",
       "      <th>MonthlyIncome</th>\n",
       "      <th>NumberOfOpenCreditLinesAndLoans</th>\n",
       "      <th>NumberOfTimes90DaysLate</th>\n",
       "      <th>NumberRealEstateLoansOrLines</th>\n",
       "      <th>number_times_latepay60-89</th>\n",
       "      <th>NumberOfDependents</th>\n",
       "    </tr>\n",
       "  </thead>\n",
       "  <tbody>\n",
       "    <tr>\n",
       "      <th>0</th>\n",
       "      <td>0.766127</td>\n",
       "      <td>45</td>\n",
       "      <td>2</td>\n",
       "      <td>0.802982</td>\n",
       "      <td>9120.0</td>\n",
       "      <td>13</td>\n",
       "      <td>0</td>\n",
       "      <td>6</td>\n",
       "      <td>0</td>\n",
       "      <td>2.0</td>\n",
       "    </tr>\n",
       "    <tr>\n",
       "      <th>1</th>\n",
       "      <td>0.957151</td>\n",
       "      <td>40</td>\n",
       "      <td>0</td>\n",
       "      <td>0.121876</td>\n",
       "      <td>2600.0</td>\n",
       "      <td>4</td>\n",
       "      <td>0</td>\n",
       "      <td>0</td>\n",
       "      <td>0</td>\n",
       "      <td>1.0</td>\n",
       "    </tr>\n",
       "    <tr>\n",
       "      <th>2</th>\n",
       "      <td>0.658180</td>\n",
       "      <td>38</td>\n",
       "      <td>1</td>\n",
       "      <td>0.085113</td>\n",
       "      <td>3042.0</td>\n",
       "      <td>2</td>\n",
       "      <td>1</td>\n",
       "      <td>0</td>\n",
       "      <td>0</td>\n",
       "      <td>0.0</td>\n",
       "    </tr>\n",
       "    <tr>\n",
       "      <th>3</th>\n",
       "      <td>0.233810</td>\n",
       "      <td>30</td>\n",
       "      <td>0</td>\n",
       "      <td>0.036050</td>\n",
       "      <td>3300.0</td>\n",
       "      <td>5</td>\n",
       "      <td>0</td>\n",
       "      <td>0</td>\n",
       "      <td>0</td>\n",
       "      <td>0.0</td>\n",
       "    </tr>\n",
       "    <tr>\n",
       "      <th>4</th>\n",
       "      <td>0.907239</td>\n",
       "      <td>49</td>\n",
       "      <td>1</td>\n",
       "      <td>0.024926</td>\n",
       "      <td>63588.0</td>\n",
       "      <td>7</td>\n",
       "      <td>0</td>\n",
       "      <td>1</td>\n",
       "      <td>0</td>\n",
       "      <td>0.0</td>\n",
       "    </tr>\n",
       "  </tbody>\n",
       "</table>\n",
       "</div>"
      ],
      "text/plain": [
       "   balance_divided_creditlimit  age  NumberOfTime30-59DaysPastDueNotWorse  \\\n",
       "0                     0.766127   45                                     2   \n",
       "1                     0.957151   40                                     0   \n",
       "2                     0.658180   38                                     1   \n",
       "3                     0.233810   30                                     0   \n",
       "4                     0.907239   49                                     1   \n",
       "\n",
       "   DebtRatio  MonthlyIncome  NumberOfOpenCreditLinesAndLoans  \\\n",
       "0   0.802982         9120.0                               13   \n",
       "1   0.121876         2600.0                                4   \n",
       "2   0.085113         3042.0                                2   \n",
       "3   0.036050         3300.0                                5   \n",
       "4   0.024926        63588.0                                7   \n",
       "\n",
       "   NumberOfTimes90DaysLate  NumberRealEstateLoansOrLines  \\\n",
       "0                        0                             6   \n",
       "1                        0                             0   \n",
       "2                        1                             0   \n",
       "3                        0                             0   \n",
       "4                        0                             1   \n",
       "\n",
       "   number_times_latepay60-89  NumberOfDependents  \n",
       "0                          0                 2.0  \n",
       "1                          0                 1.0  \n",
       "2                          0                 0.0  \n",
       "3                          0                 0.0  \n",
       "4                          0                 0.0  "
      ]
     },
     "execution_count": 3,
     "metadata": {},
     "output_type": "execute_result"
    }
   ],
   "source": [
    "df= pd.read_csv(path)\n",
    "df.rename(columns={\"Unnamed: 0\": \"ID\",\n",
    "                          \"RevolvingUtilizationOfUnsecuredLines\": \"balance_divided_creditlimit\",\n",
    "                         \"NumberOfTime60-89DaysPastDueNotWorse\": \"number_times_latepay60-89\"}, inplace=True)\n",
    "#Possíveis outliers\n",
    "df= df[df['age'] >=18 ]\n",
    "df= df[df['NumberOfTime30-59DaysPastDueNotWorse']<96  ]\n",
    "df= df[df.iloc[:, 11]<15]\n",
    "\n",
    "df.dropna(inplace=True)\n",
    "df_x= df.drop(['SeriousDlqin2yrs', 'ID'], axis=1)\n",
    "df_y= df[\"SeriousDlqin2yrs\"]\n",
    "\n",
    "df_x.head()"
   ]
  },
  {
   "cell_type": "markdown",
   "id": "354e88d9",
   "metadata": {},
   "source": [
    "### **Sample distruibution**"
   ]
  },
  {
   "cell_type": "code",
   "execution_count": 4,
   "id": "2040aed7",
   "metadata": {},
   "outputs": [
    {
     "data": {
      "text/plain": [
       "<Axes: xlabel='age', ylabel='Density'>"
      ]
     },
     "execution_count": 4,
     "metadata": {},
     "output_type": "execute_result"
    },
    {
     "data": {
      "image/png": "[encoded data removed]",
      "text/plain": [
       "<Figure size 640x480 with 1 Axes>"
      ]
     },
     "metadata": {},
     "output_type": "display_data"
    }
   ],
   "source": [
    "media_populacao = df['age'].mean()\n",
    "desvio_populacao = df['age'].std()\n",
    "\n",
    "dados_artificiais = np.random.normal(loc=media_populacao, scale=desvio_populacao, size=1000)\n",
    "#dados_artificiais, media, desvio\n",
    "plt.Figure([10,5])\n",
    "sns.histplot(df['age'], stat='density', label='dados reais')\n"
   ]
  },
  {
   "cell_type": "markdown",
   "id": "b7837cd5",
   "metadata": {},
   "source": [
    "### **Sampling distribution**"
   ]
  },
  {
   "cell_type": "code",
   "execution_count": null,
   "id": "8b180216",
   "metadata": {},
   "outputs": [],
   "source": [
    "dt= df['age']\n",
    "sample_size= 30   #num qtd em cada amostra\n",
    "num_samples= 100  #num amostras\n",
    "\n",
    "media_samples= []\n",
    "sample_z = []\n",
    "\n",
    "for i in range(num_samples):\n",
    "  sample= dt.sample(sample_size)\n",
    "  media_samples.append(sample.mean())\n",
    "\n",
    "  z_score= (media_populacao - sample.mean())/(desvio_populacao/np.sqrt(sample_size))\n",
    "  sample_z.append(z_score)\n",
    "\n",
    "\n",
    "plt.Figure([10,5])\n",
    "sns.histplot(media_samples, kde=True, stat='density', bins=20)\n",
    "plt.xlabel(f\"Média dos samples: {np.mean(media_samples):.2f}\")\n",
    "\n"
   ]
  }
 ],
 "metadata": {
  "kernelspec": {
   "display_name": "base",
   "language": "python",
   "name": "python3"
  },
  "language_info": {
   "codemirror_mode": {
    "name": "ipython",
    "version": 3
   },
   "file_extension": ".py",
   "mimetype": "text/x-python",
   "name": "python",
   "nbconvert_exporter": "python",
   "pygments_lexer": "ipython3",
   "version": "3.12.7"
  }
 },
 "nbformat": 4,
 "nbformat_minor": 5
}
